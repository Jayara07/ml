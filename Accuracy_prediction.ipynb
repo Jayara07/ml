{
 "cells": [
  {
   "cell_type": "code",
   "execution_count": 15,
   "metadata": {},
   "outputs": [],
   "source": [
    "#A) Logistic Regression Algorithm Performance Evaluation Metrics\n",
    "#-----------------------------------------------------------------\n",
    "    #1) Classification Accuracy.\n",
    "    #2) Logarithmic Loss.\n",
    "    #3) Area Under ROC Curve (AUC).\n",
    "    #4) Confusion Matrix.\n",
    "    #5) Classification Report."
   ]
  },
  {
   "cell_type": "code",
   "execution_count": 5,
   "metadata": {},
   "outputs": [
    {
     "name": "stdout",
     "output_type": "stream",
     "text": [
      "results :  [0.7012987  0.84415584 0.72727273 0.68831169 0.79220779 0.74025974\n",
      " 0.85714286 0.81818182 0.73684211 0.80263158]\n",
      "Accuracy: 77.083 %\n",
      "Std.Deviation= 5.672\n"
     ]
    }
   ],
   "source": [
    "#A.1)\n",
    "#---------------------------------------------\n",
    "\n",
    "import warnings\n",
    "warnings.filterwarnings(action=\"ignore\")\n",
    "\n",
    "import pandas as pd\n",
    "\n",
    "from sklearn.model_selection import KFold\n",
    "from sklearn.model_selection import cross_val_score\n",
    "\n",
    "from sklearn.linear_model import LogisticRegression\n",
    "filename = 'indians-diabetes.data.csv'\n",
    "\n",
    "hnames = ['preg', 'plas', 'pres', 'skin', 'test',\n",
    "          'mass', 'pedi', 'age', 'class']\n",
    "\n",
    "dataframe = pd.read_csv(filename, names=hnames)\n",
    "array = dataframe.values\n",
    "X = array[:,0:8]\n",
    "Y = array[:,8]\n",
    "\n",
    "model = LogisticRegression()\n",
    "\n",
    "num_folds = 10\n",
    "kfold = KFold(n_splits=num_folds)\n",
    "scoringMethod = 'accuracy'\n",
    "results = cross_val_score(model,  X, Y, cv=kfold,scoring=scoringMethod )\n",
    "\n",
    "print( \"results : \" , results  )\n",
    "\n",
    "\n",
    "print(  \"Accuracy: %.3f %%\"  % (\n",
    "        results.mean()*100.0 )  )\n",
    "\n",
    "print( \"Std.Deviation= %.3f\" % (\n",
    "        results.std()*100.0 )  )\n"
   ]
  },
  {
   "cell_type": "code",
   "execution_count": 6,
   "metadata": {},
   "outputs": [
    {
     "name": "stdout",
     "output_type": "stream",
     "text": [
      "results :  [-0.61141815 -0.40804715 -0.51815745 -0.52916435 -0.50628762 -0.47926836\n",
      " -0.46476717 -0.36197067 -0.47992259 -0.5053841 ]\n",
      "Accuracy: -0.486 %\n",
      "Std.Deviation= 0.064\n"
     ]
    }
   ],
   "source": [
    "#A.2)\n",
    "#---------------------------------------------\n",
    "\n",
    "import warnings\n",
    "warnings.filterwarnings(action=\"ignore\")\n",
    "\n",
    "import pandas as pd\n",
    "\n",
    "from sklearn.model_selection import KFold\n",
    "from sklearn.model_selection import cross_val_score\n",
    "\n",
    "from sklearn.linear_model import LogisticRegression\n",
    "filename = 'indians-diabetes.data.csv'\n",
    "\n",
    "hnames = ['preg', 'plas', 'pres', 'skin', 'test',\n",
    "          'mass', 'pedi', 'age', 'class']\n",
    "\n",
    "dataframe = pd.read_csv(filename, names=hnames)\n",
    "array = dataframe.values\n",
    "X = array[:,0:8]\n",
    "Y = array[:,8]\n",
    "\n",
    "model = LogisticRegression()\n",
    "\n",
    "num_folds = 10\n",
    "kfold = KFold(n_splits=num_folds)\n",
    "scoringMethod = 'neg_log_loss'\n",
    "results = cross_val_score(model,  X, Y, cv=kfold,scoring=scoringMethod )\n",
    "\n",
    "print( \"results : \" , results  )\n",
    "\n",
    "\n",
    "print(  \"Accuracy: %.3f %%\"  % (\n",
    "        results.mean() )  )\n",
    "\n",
    "print( \"Std.Deviation= %.3f\" % (\n",
    "        results.std())  )\n"
   ]
  },
  {
   "cell_type": "code",
   "execution_count": 7,
   "metadata": {},
   "outputs": [
    {
     "name": "stdout",
     "output_type": "stream",
     "text": [
      "results :  [0.75416667 0.85289256 0.82763338 0.79007092 0.81111111 0.83262411\n",
      " 0.78911565 0.92076923 0.85576923 0.82391304]\n",
      "Accuracy: 82.581 %\n",
      "Std.Deviation= 4.321\n"
     ]
    }
   ],
   "source": [
    "#A.3)\n",
    "#---------------------------------------------\n",
    "\n",
    "import warnings\n",
    "warnings.filterwarnings(action=\"ignore\")\n",
    "\n",
    "import pandas as pd\n",
    "\n",
    "from sklearn.model_selection import KFold\n",
    "from sklearn.model_selection import cross_val_score\n",
    "\n",
    "from sklearn.linear_model import LogisticRegression\n",
    "filename = 'indians-diabetes.data.csv'\n",
    "\n",
    "hnames = ['preg', 'plas', 'pres', 'skin', 'test',\n",
    "          'mass', 'pedi', 'age', 'class']\n",
    "\n",
    "dataframe = pd.read_csv(filename, names=hnames)\n",
    "array = dataframe.values\n",
    "X = array[:,0:8]\n",
    "Y = array[:,8]\n",
    "\n",
    "model = LogisticRegression()\n",
    "\n",
    "num_folds = 10\n",
    "kfold = KFold(n_splits=num_folds)\n",
    "scoringMethod = 'roc_auc'\n",
    "results = cross_val_score(model,  X, Y, cv=kfold,scoring=scoringMethod )\n",
    "\n",
    "print( \"results : \" , results  )\n",
    "\n",
    "\n",
    "print(  \"Accuracy: %.3f %%\"  % (\n",
    "        results.mean()*100 )  )\n",
    "\n",
    "print( \"Std.Deviation= %.3f\" % (\n",
    "        results.std()*100)  )\n"
   ]
  },
  {
   "cell_type": "code",
   "execution_count": 8,
   "metadata": {},
   "outputs": [
    {
     "name": "stdout",
     "output_type": "stream",
     "text": [
      "[[142  20]\n",
      " [ 34  58]]\n"
     ]
    }
   ],
   "source": [
    "#A.4)\n",
    "import warnings\n",
    "warnings.simplefilter(action=\"ignore\", category=Warning)\n",
    "\n",
    "import pandas as pd\n",
    "from sklearn.model_selection import train_test_split\n",
    "from sklearn.linear_model import LogisticRegression\n",
    "from sklearn.metrics import confusion_matrix\n",
    "\n",
    "filename = 'indians-diabetes.data.csv'\n",
    "names=['preg', 'plas', 'pres', 'skin', 'test',\n",
    "                'mass', 'pedi', 'age', 'class']\n",
    "\n",
    "dataframe = pd.read_csv(filename, names=names)\n",
    "array = dataframe.values\n",
    "X = array[:,0:8]\n",
    "Y = array[:,8]\n",
    "\n",
    "test_size = 0.33\n",
    "seed = 7\n",
    "X_train, X_test, Y_train, Y_test = train_test_split(\n",
    "        X, Y, test_size=test_size,random_state=seed )\n",
    "\n",
    "model = LogisticRegression()\n",
    "model.fit(X_train, Y_train)  # m , c\n",
    "\n",
    "predicted = model.predict(X_test)  # y --> sigmoid\n",
    "\n",
    "\n",
    "matrix = confusion_matrix(Y_test, predicted)\n",
    "\n",
    "print(matrix)\n"
   ]
  },
  {
   "cell_type": "code",
   "execution_count": 9,
   "metadata": {},
   "outputs": [
    {
     "name": "stdout",
     "output_type": "stream",
     "text": [
      "              precision    recall  f1-score   support\n",
      "\n",
      "         0.0       0.81      0.88      0.84       162\n",
      "         1.0       0.74      0.63      0.68        92\n",
      "\n",
      "    accuracy                           0.79       254\n",
      "   macro avg       0.78      0.75      0.76       254\n",
      "weighted avg       0.78      0.79      0.78       254\n",
      "\n"
     ]
    }
   ],
   "source": [
    "#A.5)\n",
    "import warnings\n",
    "warnings.simplefilter(action=\"ignore\", category=Warning)\n",
    "\n",
    "import pandas as pd\n",
    "from sklearn.model_selection import train_test_split\n",
    "from sklearn.linear_model import LogisticRegression\n",
    "from sklearn.metrics import classification_report\n",
    "\n",
    "filename = 'indians-diabetes.data.csv'\n",
    "names=['preg', 'plas', 'pres', 'skin', 'test',\n",
    "                'mass', 'pedi', 'age', 'class']\n",
    "\n",
    "dataframe = pd.read_csv(filename, names=names)\n",
    "array = dataframe.values\n",
    "X = array[:,0:8]\n",
    "Y = array[:,8]\n",
    "\n",
    "test_size = 0.33\n",
    "seed = 7\n",
    "X_train, X_test, Y_train, Y_test = train_test_split(\n",
    "        X, Y, test_size=test_size,random_state=seed )\n",
    "\n",
    "model = LogisticRegression()\n",
    "model.fit(X_train, Y_train)  # m , c\n",
    "\n",
    "predicted = model.predict(X_test)  # y --> sigmoid\n",
    "\n",
    "\n",
    "matrix = classification_report(Y_test, predicted)\n",
    "\n",
    "print(matrix)\n"
   ]
  },
  {
   "cell_type": "code",
   "execution_count": null,
   "metadata": {},
   "outputs": [],
   "source": []
  },
  {
   "cell_type": "code",
   "execution_count": 10,
   "metadata": {},
   "outputs": [
    {
     "name": "stdout",
     "output_type": "stream",
     "text": [
      "results :  [-2.20686845 -2.89680909 -2.78673044 -4.59847835 -4.10986504 -3.56469238\n",
      " -2.66966723 -9.65637767 -5.02272517 -2.53725254]\n",
      "MAE: -4.005 (2.084)\n"
     ]
    }
   ],
   "source": [
    "#B.1) Cross Validation Regression MAE\n",
    "\n",
    "\n",
    "#from pandas import read_csv\n",
    "import pandas as pd\n",
    "from sklearn.model_selection import KFold\n",
    "from sklearn.model_selection import cross_val_score\n",
    "from sklearn.linear_model import LinearRegression\n",
    "\n",
    "filename = 'housing.csv'\n",
    "\n",
    "hnames=['CRIM', 'ZN', 'INDUS', 'CHAS', 'NOX', 'RM', 'AGE',\n",
    "     'DIS', 'RAD', 'TAX', 'PTRATIO', 'B', 'LSTAT', 'MEDV']\n",
    "\n",
    "dataframe = pd.read_csv(filename,  names=hnames)\n",
    "array = dataframe.values\n",
    "\n",
    "X = array[: , 0:13]\n",
    "Y = array[:,13]\n",
    "\n",
    "kfold = KFold(n_splits=10 )\n",
    "model = LinearRegression()\n",
    "\n",
    "scoringMethod = 'neg_mean_absolute_error'    #MAE\n",
    "results = cross_val_score(model, X, Y,\n",
    "                    cv=kfold,  scoring=scoringMethod)\n",
    "\n",
    "\n",
    "print( \"results : \" , results  )\n",
    "print( \"MAE: %.3f (%.3f)\" % (\n",
    "    results.mean(), results.std() )     )\n",
    "\n",
    "\n"
   ]
  },
  {
   "cell_type": "code",
   "execution_count": 11,
   "metadata": {},
   "outputs": [
    {
     "name": "stdout",
     "output_type": "stream",
     "text": [
      "results :  [  -9.28694671  -14.15128316  -14.07360615  -35.20692433  -31.88511666\n",
      "  -19.83587796   -9.94726918 -168.37537954  -33.32974507  -10.96041068]\n",
      "MSE: -34.705 (45.574)\n"
     ]
    }
   ],
   "source": [
    "#B.2) Cross Validation Regression MSE\n",
    "\n",
    "\n",
    "#from pandas import read_csv\n",
    "import pandas as pd\n",
    "from sklearn.model_selection import KFold\n",
    "from sklearn.model_selection import cross_val_score\n",
    "from sklearn.linear_model import LinearRegression\n",
    "\n",
    "filename = 'housing.csv'\n",
    "\n",
    "hnames=['CRIM', 'ZN', 'INDUS', 'CHAS', 'NOX', 'RM', 'AGE',\n",
    "     'DIS', 'RAD', 'TAX', 'PTRATIO', 'B', 'LSTAT', 'MEDV']\n",
    "\n",
    "dataframe = pd.read_csv(filename,  names=hnames)\n",
    "array = dataframe.values\n",
    "\n",
    "X = array[: , 0:13]\n",
    "Y = array[:,13]\n",
    "\n",
    "kfold = KFold(n_splits=10 )\n",
    "model = LinearRegression()\n",
    "\n",
    "scoringMethod = 'neg_mean_squared_error'    #MSE\n",
    "results = cross_val_score(model, X, Y,\n",
    "                    cv=kfold,  scoring=scoringMethod)\n",
    "\n",
    "\n",
    "print( \"results : \" , results  )\n",
    "print( \"MSE: %.3f (%.3f)\" % (\n",
    "    results.mean(), results.std() )     )\n",
    "\n",
    "\n"
   ]
  },
  {
   "cell_type": "code",
   "execution_count": 12,
   "metadata": {},
   "outputs": [
    {
     "name": "stdout",
     "output_type": "stream",
     "text": [
      "results :  [ 0.73376082  0.4730725  -1.00631454  0.64113984  0.54766046  0.73640292\n",
      "  0.37828386 -0.12922703 -0.76843243  0.4189435 ]\n",
      "R2: 0.203 (0.595)\n"
     ]
    }
   ],
   "source": [
    "#B.3) Cross Validation Regression R2\n",
    "\n",
    "\n",
    "#from pandas import read_csv\n",
    "import pandas as pd\n",
    "from sklearn.model_selection import KFold\n",
    "from sklearn.model_selection import cross_val_score\n",
    "from sklearn.linear_model import LinearRegression\n",
    "\n",
    "filename = 'housing.csv'\n",
    "\n",
    "hnames=['CRIM', 'ZN', 'INDUS', 'CHAS', 'NOX', 'RM', 'AGE',\n",
    "     'DIS', 'RAD', 'TAX', 'PTRATIO', 'B', 'LSTAT', 'MEDV']\n",
    "\n",
    "dataframe = pd.read_csv(filename,  names=hnames)\n",
    "array = dataframe.values\n",
    "\n",
    "X = array[: , 0:13]\n",
    "Y = array[:,13]\n",
    "\n",
    "kfold = KFold(n_splits=10 )\n",
    "model = LinearRegression()\n",
    "\n",
    "scoringMethod = 'r2'    #MAE\n",
    "results = cross_val_score(model, X, Y,\n",
    "                    cv=kfold,  scoring=scoringMethod)\n",
    "\n",
    "\n",
    "print( \"results : \" , results  )\n",
    "print( \"R2: %.3f (%.3f)\" % (\n",
    "    results.mean(), results.std() )     )\n",
    "\n",
    "\n"
   ]
  },
  {
   "cell_type": "code",
   "execution_count": null,
   "metadata": {},
   "outputs": [],
   "source": []
  },
  {
   "cell_type": "code",
   "execution_count": null,
   "metadata": {},
   "outputs": [],
   "source": []
  },
  {
   "cell_type": "code",
   "execution_count": null,
   "metadata": {},
   "outputs": [],
   "source": []
  }
 ],
 "metadata": {
  "kernelspec": {
   "display_name": "Python 3",
   "language": "python",
   "name": "python3"
  },
  "language_info": {
   "codemirror_mode": {
    "name": "ipython",
    "version": 3
   },
   "file_extension": ".py",
   "mimetype": "text/x-python",
   "name": "python",
   "nbconvert_exporter": "python",
   "pygments_lexer": "ipython3",
   "version": "3.7.6"
  }
 },
 "nbformat": 4,
 "nbformat_minor": 4
}
